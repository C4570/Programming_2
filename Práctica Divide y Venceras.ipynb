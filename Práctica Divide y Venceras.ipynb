{
  "cells": [
    {
      "attachments": {},
      "cell_type": "markdown",
      "metadata": {
        "id": "2XwU_IdQSVJC"
      },
      "source": [
        "## Divide & Conquer"
      ]
    },
    {
      "attachments": {},
      "cell_type": "markdown",
      "metadata": {
        "id": "rG_h_vvsYwQd"
      },
      "source": [
        "**Ejercicio 1** Implemente un algoritmo Divide y Vencerás que calcule la suma de los numeros en una lista"
      ]
    },
    {
      "cell_type": "code",
      "execution_count": 1,
      "metadata": {},
      "outputs": [
        {
          "name": "stdout",
          "output_type": "stream",
          "text": [
            "la suma de [1, 2, 3, 4, 5, 6, 7, 8, 9] es 45\n"
          ]
        }
      ],
      "source": [
        "lista = [1,2,3,4,5,6,7,8,9] # 45\n",
        "\n",
        "def es_caso_base(lista):\n",
        "    return True if len(lista) == 1 or len(lista) == 0 else False\n",
        "    \n",
        "def resolver_caso_base(lista):\n",
        "    if len(lista) == 0:\n",
        "        return 0\n",
        "    elif len(lista) == 1:\n",
        "        return lista[0]\n",
        "\n",
        "def dividir(lista):\n",
        "    mitad = len(lista) // 2\n",
        "    return lista[:mitad], lista[mitad:]\n",
        "\n",
        "def combinar(suma_izquierda, suma_derecha):\n",
        "    return suma_izquierda + suma_derecha\n",
        "\n",
        "def divide_venceras(lista):\n",
        "    if es_caso_base(lista):\n",
        "        return resolver_caso_base(lista)\n",
        "    else:\n",
        "        izquierda, derecha = dividir(lista)\n",
        "        suma_izquierda = divide_venceras(izquierda)\n",
        "        suma_derecha = divide_venceras(derecha)\n",
        "        return combinar(suma_izquierda, suma_derecha)\n",
        "\n",
        "solucion = divide_venceras(lista)\n",
        "print(f'la suma de {lista} es {solucion}')"
      ]
    },
    {
      "attachments": {},
      "cell_type": "markdown",
      "metadata": {
        "id": "LzWEZtqlaThI"
      },
      "source": [
        "**Ejercicio 2** Búsqueda binaria\n",
        "\n",
        "Implemente un algoritmo Divide y Vencerás que encuentre un número en una lista ordenada. ¿Es necesario resolver todos los subproblemas?"
      ]
    },
    {
      "cell_type": "code",
      "execution_count": 63,
      "metadata": {},
      "outputs": [
        {
          "name": "stdout",
          "output_type": "stream",
          "text": [
            "El número está en la posición 4\n"
          ]
        }
      ],
      "source": [
        "lista = [1, 2, 3, 4, 5, 6,7,8,9,10,11]\n",
        "n = 4\n",
        "\n",
        "def caso_base(lista):\n",
        "    return len(lista) == 0 or len(lista) == 1\n",
        "\n",
        "def resolver_caso_base(lista):\n",
        "    if len(lista) == 0:\n",
        "        return -1\n",
        "    else:\n",
        "        if lista[0] == n:\n",
        "            return 0\n",
        "        else:\n",
        "            return -1\n",
        "\n",
        "def dividir(lista):\n",
        "    mitad = len(lista) // 2\n",
        "    return lista[:mitad], lista[mitad:]\n",
        "\n",
        "def combinar(subproblema1, subproblema2, longitud):\n",
        "    if subproblema1 != -1:\n",
        "        return subproblema1\n",
        "    elif subproblema2 != -1:\n",
        "        return subproblema2 + longitud // 2\n",
        "    else:\n",
        "        return -1\n",
        "\n",
        "def resolver(lista):\n",
        "    if caso_base(lista):\n",
        "        return resolver_caso_base(lista)\n",
        "    subproblema1, subproblema2 = dividir(lista)\n",
        "    resolver_subproblema1 = resolver(subproblema1)\n",
        "    resolver_subproblema2 = resolver(subproblema2)\n",
        "    return combinar(resolver_subproblema1, resolver_subproblema2, len(lista))\n",
        "\n",
        "resultado = resolver(lista)\n",
        "if resultado != -1:\n",
        "    print(f'El número está en la posición {resultado+1}')\n",
        "else:\n",
        "    print('El número no se encuentra en la lista')"
      ]
    },
    {
      "attachments": {},
      "cell_type": "markdown",
      "metadata": {
        "id": "Hj2KFWCCa9gg"
      },
      "source": [
        "**Ejercicio 3** Implemente un algoritmo Divide y Vencerás que calcula la suma de una matriz de números, representada como una lista de listas"
      ]
    },
    {
      "attachments": {},
      "cell_type": "markdown",
      "metadata": {
        "id": "KmNNPhdIbhcr"
      },
      "source": [
        "**Ejercicio 4** Dada una lista de números, proponga algoritmos Divide & Conquer para:\n",
        "\n",
        "a. Encontrar el menor elemento de la lista\n",
        "\n",
        "b. Encontrar el mayor elemento de la lista\n",
        "\n",
        "c. Encontrar el menor y el mayor elemento de la lista"
      ]
    },
    {
      "attachments": {},
      "cell_type": "markdown",
      "metadata": {
        "id": "gkfJS7c9dQPf"
      },
      "source": [
        "**Ejercicio 5** Escriba un algoritmo Divide & Conquer para calcular la potencia $b^n$ calculando potencias menores en cada paso. Puede suponer que $n$ es un numero positivo"
      ]
    },
    {
      "attachments": {},
      "cell_type": "markdown",
      "metadata": {
        "id": "n1dkqUSoexoa"
      },
      "source": [
        "**Ejercicio 6** De un algoritmo Divide & Conquer para encontrar el número más grande de una lista, y el segundo mas grande. Puede suponer que la lista siempre tiene al menos dos numeros y que los numeros son todos distintos entre si."
      ]
    }
  ],
  "metadata": {
    "colab": {
      "provenance": []
    },
    "kernelspec": {
      "display_name": "Python 3",
      "name": "python3"
    },
    "language_info": {
      "codemirror_mode": {
        "name": "ipython",
        "version": 3
      },
      "file_extension": ".py",
      "mimetype": "text/x-python",
      "name": "python",
      "nbconvert_exporter": "python",
      "pygments_lexer": "ipython3",
      "version": "3.11.2"
    }
  },
  "nbformat": 4,
  "nbformat_minor": 0
}
