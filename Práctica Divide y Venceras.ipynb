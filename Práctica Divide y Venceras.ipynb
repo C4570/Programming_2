{
  "nbformat": 4,
  "nbformat_minor": 0,
  "metadata": {
    "colab": {
      "provenance": []
    },
    "kernelspec": {
      "name": "python3",
      "display_name": "Python 3"
    },
    "language_info": {
      "name": "python"
    }
  },
  "cells": [
    {
      "cell_type": "markdown",
      "source": [
        "## Divide & Conquer"
      ],
      "metadata": {
        "id": "2XwU_IdQSVJC"
      }
    },
    {
      "cell_type": "markdown",
      "source": [
        "**Ejercicio 1** Implemente un algoritmo Divide y Vencerás que calcule la suma de los numeros en una lista"
      ],
      "metadata": {
        "id": "rG_h_vvsYwQd"
      }
    },
    {
      "cell_type": "markdown",
      "source": [
        "**Ejercicio 2** Búsqueda binaria\n",
        "\n",
        "Implemente un algoritmo Divide y Vencerás que encuentre un número en una lista ordenada. ¿Es necesario resolver todos los subproblemas?"
      ],
      "metadata": {
        "id": "LzWEZtqlaThI"
      }
    },
    {
      "cell_type": "markdown",
      "source": [
        "**Ejercicio 3** Implemente un algoritmo Divide y Vencerás que calcula la suma de una matriz de números, representada como una lista de listas"
      ],
      "metadata": {
        "id": "Hj2KFWCCa9gg"
      }
    },
    {
      "cell_type": "markdown",
      "source": [
        "**Ejercicio 4** Dada una lista de números, proponga algoritmos Divide & Conquer para:\n",
        "\n",
        "a. Encontrar el menor elemento de la lista\n",
        "\n",
        "b. Encontrar el mayor elemento de la lista\n",
        "\n",
        "c. Encontrar el menor y el mayor elemento de la lista"
      ],
      "metadata": {
        "id": "KmNNPhdIbhcr"
      }
    },
    {
      "cell_type": "markdown",
      "source": [
        "**Ejercicio 5** Escriba un algoritmo Divide & Conquer para calcular la potencia $b^n$ calculando potencias menores en cada paso. Puede suponer que $n$ es un numero positivo"
      ],
      "metadata": {
        "id": "gkfJS7c9dQPf"
      }
    },
    {
      "cell_type": "markdown",
      "source": [
        "**Ejercicio 6** De un algoritmo Divide & Conquer para encontrar el número más grande de una lista, y el segundo mas grande. Puede suponer que la lista siempre tiene al menos dos numeros y que los numeros son todos distintos entre si."
      ],
      "metadata": {
        "id": "n1dkqUSoexoa"
      }
    }
  ]
}