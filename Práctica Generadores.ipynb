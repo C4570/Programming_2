{
  "cells": [
    {
      "attachments": {},
      "cell_type": "markdown",
      "metadata": {
        "id": "FXKGUU31xj5f"
      },
      "source": [
        "# Generadores\n",
        "\n",
        "Los generadores en Python son una herramienta expresiva muy poderosa, que como veremos nos va a permitir resolver algunos problemas más fácilmente, ¡y otros más eficientemente!\n",
        "\n",
        "Vean la [documentación oficial](https://wiki.python.org/moin/Generators) si les interesa."
      ]
    },
    {
      "attachments": {},
      "cell_type": "markdown",
      "metadata": {
        "id": "gC9j4BEFx9Ms"
      },
      "source": [
        "---\n",
        "# Problema de ejemplo"
      ]
    },
    {
      "cell_type": "code",
      "execution_count": 5,
      "metadata": {
        "id": "pRVn_qMsxHaR"
      },
      "outputs": [],
      "source": [
        "def elementos_hasta_n(n: int) -> list[int]:\n",
        "  lista = []\n",
        "  \n",
        "  i = 1\n",
        "  while i <= n:\n",
        "    lista.append(i)\n",
        "    i += 1\n",
        "\n",
        "  return lista"
      ]
    },
    {
      "cell_type": "code",
      "execution_count": 11,
      "metadata": {
        "colab": {
          "base_uri": "https://localhost:8080/"
        },
        "id": "wHdoj_CLyb-P",
        "outputId": "be423f57-46d1-484d-db1b-2caa31ee31aa"
      },
      "outputs": [
        {
          "data": {
            "text/plain": [
              "[1, 2, 3, 4, 5, 6, 7, 8, 9, 10]"
            ]
          },
          "execution_count": 11,
          "metadata": {},
          "output_type": "execute_result"
        }
      ],
      "source": [
        "resultado = elementos_hasta_n(10) # todo bien con esta"
      ]
    },
    {
      "cell_type": "code",
      "execution_count": 13,
      "metadata": {
        "id": "AtItrjYeyqWQ"
      },
      "outputs": [],
      "source": [
        "resultado = elementos_hasta_n(100_000_000) # peeeeeeero"
      ]
    },
    {
      "cell_type": "code",
      "execution_count": 14,
      "metadata": {
        "id": "hIu2mBnny99B"
      },
      "outputs": [],
      "source": [
        "resultado = range(100_000_000) # !?!?!?"
      ]
    },
    {
      "attachments": {},
      "cell_type": "markdown",
      "metadata": {
        "id": "68eFcEmuzRLR"
      },
      "source": [
        "---\n",
        "# Haciendo el ajuste"
      ]
    },
    {
      "cell_type": "code",
      "execution_count": 15,
      "metadata": {
        "id": "0i9_HOmLzUDm"
      },
      "outputs": [],
      "source": [
        "def elementos_hasta_n_perezosamente(n: int):\n",
        "  i = 1\n",
        "  while i <= n:\n",
        "    yield i # como return! pero varias veces! y se acuerda dónde quedó! :D\n",
        "    i += 1"
      ]
    },
    {
      "cell_type": "code",
      "execution_count": 16,
      "metadata": {
        "id": "dbNOOEI1zk56"
      },
      "outputs": [],
      "source": [
        "resultado = elementos_hasta_n_perezosamente(100_000_000) # B)"
      ]
    },
    {
      "attachments": {},
      "cell_type": "markdown",
      "metadata": {
        "id": "vHcCXjFHz1LE"
      },
      "source": [
        "---\n",
        "# Midiendo tiempos"
      ]
    },
    {
      "cell_type": "code",
      "execution_count": 18,
      "metadata": {
        "id": "bYZTWXfHz4RN"
      },
      "outputs": [],
      "source": [
        "def consumir(iterable, cantidad: int) -> None:\n",
        "  i = 0\n",
        "  for _ in iterable: # * ruido de comida *\n",
        "    if i >= cantidad: # toy lleno\n",
        "      break\n",
        "    i += 1"
      ]
    },
    {
      "cell_type": "code",
      "execution_count": 19,
      "metadata": {
        "id": "oIk6Upy80AaV"
      },
      "outputs": [],
      "source": [
        "consumir(elementos_hasta_n(100_000_000), 100)"
      ]
    },
    {
      "cell_type": "code",
      "execution_count": 20,
      "metadata": {
        "id": "25EDY8mz0DXG"
      },
      "outputs": [],
      "source": [
        "consumir(elementos_hasta_n_perezosamente(100_000_000), 100)"
      ]
    },
    {
      "attachments": {},
      "cell_type": "markdown",
      "metadata": {
        "id": "Y7eVmur502Tk"
      },
      "source": [
        "---\n",
        "# Otro uso: generación de secuencias complejas\n",
        "###### (¡y posiblemente infinitas!)"
      ]
    },
    {
      "cell_type": "code",
      "execution_count": 22,
      "metadata": {
        "id": "1rWuQ3Ij1MjQ"
      },
      "outputs": [],
      "source": [
        "def fibonacci():\n",
        "  f0 = 0\n",
        "  f1 = 1\n",
        "  while True: # nunca termina! pero... no importa...?\n",
        "    yield f0\n",
        "    fnext = f1 + f0\n",
        "    f0, f1 = f1, fnext"
      ]
    },
    {
      "cell_type": "code",
      "execution_count": null,
      "metadata": {
        "id": "T1uEygC_1yWO"
      },
      "outputs": [],
      "source": [
        "fibonacci() # ???"
      ]
    },
    {
      "cell_type": "code",
      "execution_count": null,
      "metadata": {
        "id": "O_pJfpX-161A"
      },
      "outputs": [],
      "source": [
        "[f for f in fibonacci() if f < 100] # ???"
      ]
    },
    {
      "cell_type": "code",
      "execution_count": null,
      "metadata": {
        "id": "GieKgTDj2MKf"
      },
      "outputs": [],
      "source": [
        "lista = []\n",
        "for f in fibonacci():\n",
        "  if f >= 100:\n",
        "    break\n",
        "  lista.append(f)\n",
        "lista # ???"
      ]
    },
    {
      "cell_type": "code",
      "execution_count": 28,
      "metadata": {
        "id": "VqkV5-Cj2iRp"
      },
      "outputs": [],
      "source": [
        "def rand_hasta_que_termine_en(n: int):\n",
        "  from random import randrange\n",
        "  \n",
        "  f = randrange(0, 9)\n",
        "  while f != n:\n",
        "    yield f\n",
        "    f = randrange(0, 9)"
      ]
    },
    {
      "cell_type": "code",
      "execution_count": null,
      "metadata": {
        "id": "ophgl9sJ3WSt"
      },
      "outputs": [],
      "source": [
        "list(rand_hasta_que_termine_en(0))"
      ]
    },
    {
      "attachments": {},
      "cell_type": "markdown",
      "metadata": {
        "id": "Cf-PKMZp3jdr"
      },
      "source": [
        "---\n",
        "# Ejercicios\n",
        "\n",
        "1. Implementar las siguientes funciones de la librería de Python como generadores: `range`, `enumerate`, `zip`, `map`\n",
        "\n",
        "2. Implementar un generador de todas las coordenadas `(x, y)` de un plano de tamaño `N x M`, dimensiones pasadas como parámetros\n",
        "\n",
        "3. Agregue un parámetro extra llamado `traversal` a la función anterior que indique si las coordenadas se recorren primero por las `x` (`\"horizontal\"`), primero por las `y` (`\"vertical\"`), o al azar (`\"random\"`). Ejemplo: `coordinates(8, 8, traversal = \"horizontal\")`\n",
        "\n",
        "4. Desarrolle y consuma un generador que intermedie el input de datos. Este le pide al usuario un nombre y lo retorna al flujo de programa. Debe manejar el fin de datos de forma transparente y automática. Imprima `\"Así me llamo yo!\"` **del lado del consumidor** cuando el usuario escriba el nombre de ustedes!"
      ]
    }
  ],
  "metadata": {
    "colab": {
      "provenance": []
    },
    "kernelspec": {
      "display_name": "Python 3",
      "name": "python3"
    },
    "language_info": {
      "name": "python"
    }
  },
  "nbformat": 4,
  "nbformat_minor": 0
}
