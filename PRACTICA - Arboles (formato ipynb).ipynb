{
  "nbformat": 4,
  "nbformat_minor": 0,
  "metadata": {
    "colab": {
      "provenance": []
    },
    "kernelspec": {
      "name": "python3",
      "display_name": "Python 3"
    },
    "language_info": {
      "name": "python"
    }
  },
  "cells": [
    {
      "cell_type": "markdown",
      "source": [
        "# Practica 3"
      ],
      "metadata": {
        "id": "42WZXXINVURQ"
      }
    },
    {
      "cell_type": "markdown",
      "source": [
        "##Árboles Binarios"
      ],
      "metadata": {
        "id": "KSxMmelYVer0"
      }
    },
    {
      "cell_type": "markdown",
      "source": [
        "**Ejercicio 1**: Utilizando la clase Tree presentada a continuación\n",
        "\n",
        "```python\n",
        "class Tree:\n",
        "  def __init__(self, cargo, left = None, right = None):\n",
        "    self.cargo = cargo\n",
        "    self.left = left\n",
        "    self.right = right\n",
        "```\n",
        "\n",
        "Implemente los siguiente métodos:\n",
        "\n",
        " *Ayuda: pensar que cada árbol tiene a su izquierda y derecha objetos árboles como sus hijos*.\n",
        "* **nodos**: devuelve la cantidad de nodos del árbol\n",
        "* **menor_mayor**: devuelve el menor y el mayor elemento del árbol en una tupla\n",
        "* **buscar**: busca si un elemento está o no en el árbol\n",
        "* **altura**: calcula la altura del árbol, la distancia desde la raíz hasta la hoja más lejana"
      ],
      "metadata": {
        "id": "ZUlsgVAEhPOz"
      }
    },
    {
      "cell_type": "code",
      "source": [
        "class Tree:\n",
        "  def __init__(self, cargo, left=None, right=None):\n",
        "    self.cargo = cargo\n",
        "    self.left = left\n",
        "    self.right = right\n",
        "  \n",
        "  def nodos(self):\n",
        "    ...\n",
        "\n",
        "  def menor_mayor(self):\n",
        "    ...\n",
        "\n",
        "  def buscar(self, element):\n",
        "    ...\n",
        "\n",
        "  def altura(self):\n",
        "    ...\n",
        "\n",
        "      \n",
        "    \n",
        "#        ___8___\n",
        "#       /       \\\n",
        "#      2         15\n",
        "#    /  \\       /  \\\n",
        "#   4   -3    17    20\n",
        "#  / \\             /  \\\n",
        "# 7   3          22    0\n",
        "tree = Tree(8, Tree(2, Tree(4,Tree(7), Tree(3)), Tree(-3)), Tree(15, Tree(17), Tree(20,Tree(22),Tree(0))))\n",
        "\n",
        "\n",
        "  "
      ],
      "metadata": {
        "id": "IEI_-fNMhPPG"
      },
      "execution_count": 1,
      "outputs": []
    },
    {
      "cell_type": "markdown",
      "source": [
        "**Ejercicio 2**: \n",
        "\n",
        "a. Implementar los recorridos PreOrder, InOrder y PostOrder como funciones recursivas \n",
        "\n",
        "b. Implementar los recorridos PreOrder, InOrder y PostOrder como funciones iterativas.\n",
        "\n",
        "_Ayuda_: Para las versiones iterativas, necesitará utilizar una Pila como estructura de datos adicional. Puede importar una implementacion cualquiera de Pila que haya realizado en la Practica anterior."
      ],
      "metadata": {
        "id": "boWybkv6hPPG"
      }
    },
    {
      "cell_type": "code",
      "source": [
        "# Version recursiva\n",
        "  \n",
        "def treePreOrder(tree):\n",
        "  ...\n",
        "def treeInOrder(tree):\n",
        "  ...\n",
        "def treePostOrder(tree):\n",
        "  ...\n",
        "\n",
        "tree = Tree(8, Tree(4, Tree(2,Tree(1), Tree(3)), Tree(7)), Tree(15, Tree(17), Tree(20,Tree(19),Tree(22))))\n",
        "#        ___8___\n",
        "#       /       \\\n",
        "#      4         15\n",
        "#    /  \\       /  \\\n",
        "#   2    7    17    20\n",
        "#  / \\             /  \\\n",
        "# 1   3          19    22\n",
        "\n"
      ],
      "metadata": {
        "id": "0ZqUyj4FhPPG"
      },
      "execution_count": 3,
      "outputs": []
    },
    {
      "cell_type": "code",
      "source": [
        "# Version iterativa\n",
        "def treePreOrder(tree):\n",
        "  ...\n",
        "\n",
        "\n",
        "def treeInOrder(tree):\n",
        "  ...\n",
        "\n",
        "def treePostOrder(tree):\n",
        "  ...\n",
        "\n",
        "tree = Tree(8, Tree(4, Tree(2,Tree(1), Tree(3)), Tree(7)), Tree(15, Tree(17), Tree(20,Tree(19),Tree(22))))\n",
        "#        ___8___\n",
        "#       /       \\\n",
        "#      4         15\n",
        "#    /  \\       /  \\\n",
        "#   2    7    17    20\n",
        "#  / \\             /  \\\n",
        "# 1   3          19    22\n",
        "\n",
        "treePreOrder(tree)\n",
        "print(\"\")\n",
        "\n",
        "treeInOrder(tree)\n",
        "print(\"\")\n",
        "\n",
        "treePostOrder(tree)\n",
        "print(\"\")\n"
      ],
      "metadata": {
        "colab": {
          "base_uri": "https://localhost:8080/"
        },
        "id": "JdzU-fmGyR8H",
        "outputId": "e804695e-0e10-4e64-e9cd-ea73c1a5d4b1"
      },
      "execution_count": 4,
      "outputs": [
        {
          "output_type": "stream",
          "name": "stdout",
          "text": [
            "\n",
            "\n",
            "\n"
          ]
        }
      ]
    },
    {
      "cell_type": "markdown",
      "source": [
        "**Ejercicio 3**: En la práctica anterior mencionamos cómo utilizamos notación postfija de expresiones para evaluar en un Stack y sin usar paréntesis. Con árboles podemos representar expresiones infijas sin paréntesis. Cada nodo interno del árbol representa un operador, izquierda y derecha son subexpresiones, y las hojas son números. Implementar una clase Expression que herede de Tree, un árbol de expresiones infijas, con dos métodos.\n",
        "\n",
        "* **imprimir**: que imprime la expresión de forma infija con paréntesis.\n",
        "* **evaluar**: evalúa todo el árbol y lo reduce a un número.\n",
        "\n",
        "Ejemplo\n",
        "```\n",
        "     *\n",
        "   /   \\\n",
        "  +     -     ==>   ((1 + 2) * (3 - 4))   ==>   -2\n",
        " / \\   / \\\n",
        "1   2 3   4\n",
        "```"
      ],
      "metadata": {
        "id": "iyjalnPnhPPH"
      }
    },
    {
      "cell_type": "code",
      "source": [
        "class Expression(Tree):\n",
        "  def imprimir(self):\n",
        "    ...\n",
        "\n",
        "  def evaluar(self):\n",
        "    ...\n",
        "\n",
        "node1 = Expression(1)\n",
        "node2 = Expression(2)\n",
        "node3 = Expression(3)\n",
        "node4 = Expression(4)\n",
        "\n",
        "suma = Expression(\"+\", node1, node2)\n",
        "resta = Expression(\"-\", node3, node4)\n",
        "mult = Expression(\"*\", suma, resta)\n",
        "\n",
        "mult.imprimir()\n",
        "print(\"\")\n",
        "mult.evaluar()"
      ],
      "metadata": {
        "id": "BbQJzB43hPPH",
        "colab": {
          "base_uri": "https://localhost:8080/"
        },
        "outputId": "ed27a614-e543-4c1c-a1e5-d0f964af8c1a"
      },
      "execution_count": 5,
      "outputs": [
        {
          "output_type": "stream",
          "name": "stdout",
          "text": [
            "\n"
          ]
        }
      ]
    },
    {
      "cell_type": "markdown",
      "source": [
        "##Árboles Binarios de Búsqueda"
      ],
      "metadata": {
        "id": "vKpca6UAaDyp"
      }
    },
    {
      "cell_type": "markdown",
      "source": [
        "**Ejercicio 4**: Utilizando la misma clase Tree de la sección anterior, implemente otra clase llamada BSTree que herede de esta, reimplemente los métodos **menor_mayor**, **buscar** e implemente un nuevo método llamado **insertar** que inserte un elemento."
      ],
      "metadata": {
        "id": "jcHTBLBdaDy7"
      }
    },
    {
      "cell_type": "code",
      "source": [
        "class BSTree(Tree):\n",
        "\n",
        "  def menor_mayor(self):\n",
        "    ...\n",
        "\n",
        "  def buscar(self, element):\n",
        "    ...\n",
        "\n",
        "  def insert(self, element):\n",
        "    ...\n",
        "\n",
        "import random\n",
        "btree = BSTree(10)\n",
        "for i in range(10):\n",
        "  btree.insert(random.randint(0, 20))\n"
      ],
      "metadata": {
        "id": "ZlRN5ZT_aDy8"
      },
      "execution_count": 7,
      "outputs": []
    },
    {
      "cell_type": "markdown",
      "source": [
        "**Ejercicio 5**: \n",
        "\n",
        "La [magia de IPython](https://ipython.readthedocs.io/en/stable/interactive/magics.html) es un sistema de comandos mágicos que sirven para realizar diversas tareas del sistema operativo directamente en un entorno que use a iPython, como Google Colab, IPython, Jupyter Notebooks, etc.\n",
        "\n",
        "Uno de estos comandos magicos es `%%timeit`, el cual sirve para medir cuando tiempo tarda en ejecutarse un bloque de codigo. Este comando corre las celdas muchas veces y calcula el tiempo promedio de ejecucion, para asegurarse de que la medicion sea confiable.\n",
        "\n",
        "En la siguientes dos celdas de código se realizan dos experimentos:\n",
        "\n",
        "1. Por un lado, se insertan los numeros del 1 al 100 en un BSTree en orden creciente, y luego, se chequea si cada uno esta en el arbol.\n",
        "2. En otra celda, se insertan los numeros del 1 al 100 en un BSTree en orden aleatorio, y luego, se chequea si cada uno esta en el arbo.\n",
        "\n",
        "Corra los experimentos utilizando Google Colab o IPython y explique porque uno de los dos tarda menos que el otro."
      ],
      "metadata": {
        "id": "9hVIrj-FaDy8"
      }
    },
    {
      "cell_type": "code",
      "source": [
        "%%timeit\n",
        "# Insertamos los numeros del 1 al 100000 en un BSTree en orden creciente \n",
        "t = BSTree(1)\n",
        "for i in range(100):\n",
        "  t.insert(i)\n",
        "\n",
        "# Y luego chequeamos si cada numero fue insertado\n",
        "for i in range(100):\n",
        "  t.buscar(i)"
      ],
      "metadata": {
        "id": "acHlNY23aDy8"
      },
      "execution_count": null,
      "outputs": []
    },
    {
      "cell_type": "code",
      "source": [
        "%%timeit\n",
        "# Insertamos los numeros del 1 al 100000 en un BSTree en orden aleatorio\n",
        "import random \n",
        "t = BSTree(1)\n",
        "L = list(range(100))\n",
        "random.shuffle(L) \n",
        "for i in L:\n",
        "  t.insert(i)\n",
        "\n",
        "# Y luego chequeamos si cada numero fue insertado\n",
        "for i in range(100):\n",
        "  t.buscar(i)"
      ],
      "metadata": {
        "id": "PGDFsCGVw0s3"
      },
      "execution_count": null,
      "outputs": []
    },
    {
      "cell_type": "markdown",
      "source": [
        "**Ejercicio 6** Escriba una funcion `copy` que reciba un BSTree y devuelva un _nuevo_ BSTree identico al original."
      ],
      "metadata": {
        "id": "lLmB1pL44YeX"
      }
    },
    {
      "cell_type": "code",
      "source": [
        "def copiar(arbol):\n",
        "  ...\n",
        "\n",
        "import random\n",
        "btree = BSTree(10)\n",
        "for i in range(10):\n",
        "  btree.insert(random.randint(0, 20))\n",
        "\n",
        "btree2 = copiar(btree)\n",
        "treeInOrder(btree)\n",
        "print(\"\")\n",
        "treeInOrder(btree2)"
      ],
      "metadata": {
        "colab": {
          "base_uri": "https://localhost:8080/"
        },
        "id": "UcR92VbL4iLv",
        "outputId": "cee8a871-ea60-44f2-8030-ce973a6f6ec7"
      },
      "execution_count": null,
      "outputs": [
        {
          "output_type": "stream",
          "name": "stdout",
          "text": [
            "0 8 10 11 13 14 15 16 18 \n",
            "0 8 10 11 13 14 15 16 18 "
          ]
        }
      ]
    },
    {
      "cell_type": "markdown",
      "source": [
        "**Ejercicio 7**: Escriba una funcion `combine` que combine dos arboles binarios de búsqueda en uno solo. El resultado tambien debe ser un arbol binario de busqueda."
      ],
      "metadata": {
        "id": "WPJxhCb7aDy8"
      }
    },
    {
      "cell_type": "code",
      "source": [
        "def combinar(arbol1, arbol2):\n",
        "  ...\n",
        "\n",
        "import random\n",
        "btree = BSTree(10)\n",
        "for i in range(10):\n",
        "  btree.insert(random.randint(0, 40))\n",
        "\n",
        "btree2 = BSTree(30)\n",
        "for i in range(10):\n",
        "  btree2.insert(random.randint(0, 40))\n",
        "\n",
        "\n",
        "treeInOrder(btree)\n",
        "print(\"\")\n",
        "treeInOrder(btree2)\n",
        "print(\"\")\n",
        "treeInOrder(combinar(btree, btree2))\n"
      ],
      "metadata": {
        "id": "f0JulFuHaDy8",
        "colab": {
          "base_uri": "https://localhost:8080/"
        },
        "outputId": "a8fe6c9b-edbb-486c-e4cf-debf6e37adc3"
      },
      "execution_count": null,
      "outputs": [
        {
          "output_type": "stream",
          "name": "stdout",
          "text": [
            "5 9 10 16 20 21 22 23 34 35 \n",
            "3 4 5 20 23 26 30 37 \n",
            "3 4 5 9 10 16 20 21 22 23 26 30 34 35 37 "
          ]
        }
      ]
    },
    {
      "cell_type": "markdown",
      "source": [
        "**Ejercicio 8** Escriba una función `borrar_raiz`. Dado un arbol binario de busqueda, esta funcion deberia devolver un nuevo arbol binario de busqueda que contenga los mismos datos, a excepcion de la raiz."
      ],
      "metadata": {
        "id": "1AcyW-xe66rx"
      }
    },
    {
      "cell_type": "code",
      "source": [
        "def borrar_raiz(arbol):\n",
        "  ...\n",
        "\n",
        "import random\n",
        "btree = BSTree(20)\n",
        "for i in range(10):\n",
        "  btree.insert(random.randint(0, 40))\n",
        "\n",
        "treeInOrder(borrar_raiz(btree))"
      ],
      "metadata": {
        "colab": {
          "base_uri": "https://localhost:8080/"
        },
        "id": "ySE2FUXa7PIg",
        "outputId": "f8c8366e-1819-4d54-d8c7-477365166e45"
      },
      "execution_count": null,
      "outputs": [
        {
          "output_type": "stream",
          "name": "stdout",
          "text": [
            "2 8 24 25 30 32 35 36 38 "
          ]
        }
      ]
    },
    {
      "cell_type": "markdown",
      "source": [
        "**Ejercicio 9** Escriba una funcion `borrar_valor` que dado un arbol binario de busqueda y un valor, devuelva un arbol binario de busqueda sin ese valor."
      ],
      "metadata": {
        "id": "biBZIZcv7zhA"
      }
    },
    {
      "cell_type": "code",
      "source": [
        "def borrar_valor(arbol, valor):\n",
        "  ...\n",
        "\n",
        "\n",
        "\n",
        "import random\n",
        "btree = BSTree(20)\n",
        "btree.insert(10)\n",
        "\n",
        "\n",
        "treeInOrder(btree)\n",
        "print(\"\")\n",
        "btree = borrar_valor(btree, 10)\n",
        "treeInOrder(btree)\n",
        "\n"
      ],
      "metadata": {
        "colab": {
          "base_uri": "https://localhost:8080/"
        },
        "id": "vVP5pSRh7tL4",
        "outputId": "f34fc6eb-1eaa-4fc7-9170-9577747e2e0f"
      },
      "execution_count": null,
      "outputs": [
        {
          "output_type": "stream",
          "name": "stdout",
          "text": [
            "10 20 \n",
            "20 "
          ]
        }
      ]
    },
    {
      "cell_type": "markdown",
      "source": [
        "**Ejercicio 10**: Herede de BSTree una clase Diccionario, cuyos valores sean tuplas (clave, valor). Reimplemente los métodos **buscar** e **insertar** para que acepten estas tuplas, guarden de acuerdo a sus claves que son strings, y busquen el valor asociado a la clave pasada como argumento, como un diccionario."
      ],
      "metadata": {
        "id": "e6jlYaqal6-J"
      }
    },
    {
      "cell_type": "code",
      "source": [
        "class Diccionario(BSTree):\n",
        "  def buscar(self, clave):\n",
        "    ...\n",
        "\n",
        "  def insert(self, clave, valor):\n",
        "    ...\n",
        "\n",
        "btree = Diccionario((\"Nicolas\", 26))\n",
        "btree.insert(\"Hernan\", 18)\n",
        "btree.insert(\"Brisa\", 18)\n",
        "btree.insert(\"Sofia\", 40)\n",
        "\n",
        "btree.buscar(\"Sofia\")"
      ],
      "metadata": {
        "id": "M_AlHWtJl6-K"
      },
      "execution_count": 9,
      "outputs": []
    }
  ]
}