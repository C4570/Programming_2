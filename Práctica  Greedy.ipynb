{
  "cells": [
    {
      "attachments": {},
      "cell_type": "markdown",
      "metadata": {
        "id": "Mp75quWIanOS"
      },
      "source": [
        "## Greedy"
      ]
    },
    {
      "attachments": {},
      "cell_type": "markdown",
      "metadata": {
        "id": "E3KZzsxYiqTz"
      },
      "source": [
        "**Ejercicio 1**: Tenemos una lista de tareas, cada tarea se simboliza con el tiempo que toma completarla, pero tenemos un tiempo límite $T$ que probablemente no nos alcance para hacerlas todas.\n",
        "\n",
        "¿Cuál es la mayor cantidad de tareas que puedo completar en $T$ tiempo o menos?\n",
        "\n",
        "Ejemplo:\n",
        "```python\n",
        "tasks = [5, 9, 2, 6, 1]\n",
        "T = 10\n",
        "# Respuesta: 3\n",
        "```"
      ]
    },
    {
      "cell_type": "code",
      "execution_count": 1,
      "metadata": {
        "colab": {
          "base_uri": "https://localhost:8080/"
        },
        "id": "k5cF5rjaiqUF",
        "outputId": "532f57ff-539e-46e5-d4a5-4bc74f2d9f5e"
      },
      "outputs": [
        {
          "name": "stdout",
          "output_type": "stream",
          "text": [
            "[1, 2, 5]\n"
          ]
        }
      ],
      "source": [
        "\n",
        "T = 10\n",
        "tasks = [5, 9, 2, 6, 1]\n",
        "\n",
        "def es_solucion(max_tasks):\n",
        "  return sum(max_tasks) == T or tasks == []\n",
        "\n",
        "def elegir_task():\n",
        "  return min(tasks)\n",
        "\n",
        "def es_factible(task):\n",
        "  return sum(task) <= T\n",
        "\n",
        "max_tasks = [] \n",
        "\n",
        "while not es_solucion(max_tasks):\n",
        "    x = elegir_task()\n",
        "    tasks.remove(x)\n",
        "    if es_factible(max_tasks + [x]):\n",
        "        max_tasks.append(x)\n",
        "\n",
        "print(f'{max_tasks}')\n",
        "\n"
      ]
    },
    {
      "attachments": {},
      "cell_type": "markdown",
      "metadata": {
        "id": "OqF-LaU2eN0J"
      },
      "source": [
        "**Ejercicio Extra**: La codificación de Huffman es un algoritmo de compresión de datos. A los elementos más frecuentes se les asigna cadenas de bits más cortas.\n",
        "\n",
        "Se emplea un árbol para la codificación, donde los nodos internos no tienen datos, la rama izquierda representa leer un 0, la rama derecha representa leer un 1, y al llegar a la hoja interpretamos el dato que allí se encuentra.\n",
        "\n",
        "Ejemplo:\n",
        "\n",
        "Dado el siguiente árbol de codificación de Huffman\n",
        "```\n",
        "   .\n",
        " 0/ \\1\n",
        " /   \\\n",
        "a  0/ \\1\n",
        "   b   c\n",
        "```\n",
        "y la cadena de bits\n",
        "```\n",
        "10101001\n",
        "```\n",
        "interpretaríamos\n",
        "```\n",
        "1 -> a\n",
        "01 -> b\n",
        "01 -> b\n",
        "00 -> c\n",
        "1 -> a\n",
        "```\n",
        "Está garantizado que, si la cadena de bits salió de ese árbol, entonces la interpretación siempre se puede realizar sin errores.\n",
        "\n",
        "El algoritmo para construir el árbol toma siempre los dos nodos con menor frecuencia y los une en un nodo interno, cuyo valor es la suma de las frecuencias, el menor de los dos hijos va a la rama del 0, y el mayor a la del 1, e itera este proceso Greedy hasta que nos quede un solo nodo, la raíz del árbol entero.\n",
        "\n",
        "Implementar el algoritmo que transforma un string en un Árbol de Huffman para crear el árbol. Como extra, además escribir el algoritmo de interpretación de secuencias de 1s y 0s. El algoritmo toma los 2 nodos con menor frecuencia y crea un nuevo nodo interno."
      ]
    }
  ],
  "metadata": {
    "colab": {
      "provenance": []
    },
    "kernelspec": {
      "display_name": "Python 3",
      "name": "python3"
    },
    "language_info": {
      "codemirror_mode": {
        "name": "ipython",
        "version": 3
      },
      "file_extension": ".py",
      "mimetype": "text/x-python",
      "name": "python",
      "nbconvert_exporter": "python",
      "pygments_lexer": "ipython3",
      "version": "3.11.2"
    }
  },
  "nbformat": 4,
  "nbformat_minor": 0
}
