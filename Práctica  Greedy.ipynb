{
  "nbformat": 4,
  "nbformat_minor": 0,
  "metadata": {
    "colab": {
      "provenance": []
    },
    "kernelspec": {
      "name": "python3",
      "display_name": "Python 3"
    },
    "language_info": {
      "name": "python"
    }
  },
  "cells": [
    {
      "cell_type": "markdown",
      "source": [
        "## Greedy"
      ],
      "metadata": {
        "id": "Mp75quWIanOS"
      }
    },
    {
      "cell_type": "markdown",
      "source": [
        "**Ejercicio 1**: Tenemos una lista de tareas, cada tarea se simboliza con el tiempo que toma completarla, pero tenemos un tiempo límite $T$ que probablemente no nos alcance para hacerlas todas.\n",
        "\n",
        "¿Cuál es la mayor cantidad de tareas que puedo completar en $T$ tiempo o menos?\n",
        "\n",
        "Ejemplo:\n",
        "```python\n",
        "tasks = [5, 9, 2, 6, 1]\n",
        "T = 10\n",
        "# Respuesta: 3\n",
        "```"
      ],
      "metadata": {
        "id": "E3KZzsxYiqTz"
      }
    },
    {
      "cell_type": "code",
      "source": [
        "T = 10\n",
        "tasks = [5, 9, 2, 6, 1]\n",
        "\n",
        "def max_tasks(tasks, T):\n",
        "  # COMPLETAR! \n",
        "  pass\n",
        "\n"
      ],
      "metadata": {
        "colab": {
          "base_uri": "https://localhost:8080/"
        },
        "outputId": "532f57ff-539e-46e5-d4a5-4bc74f2d9f5e",
        "id": "k5cF5rjaiqUF"
      },
      "execution_count": null,
      "outputs": [
        {
          "output_type": "stream",
          "name": "stdout",
          "text": [
            "Overwriting test_maximizing_tasks.py\n"
          ]
        }
      ]
    },
    {
      "cell_type": "markdown",
      "source": [
        "**Ejercicio Extra**: La codificación de Huffman es un algoritmo de compresión de datos. A los elementos más frecuentes se les asigna cadenas de bits más cortas.\n",
        "\n",
        "Se emplea un árbol para la codificación, donde los nodos internos no tienen datos, la rama izquierda representa leer un 0, la rama derecha representa leer un 1, y al llegar a la hoja interpretamos el dato que allí se encuentra.\n",
        "\n",
        "Ejemplo:\n",
        "\n",
        "Dado el siguiente árbol de codificación de Huffman\n",
        "```\n",
        "   .\n",
        " 0/ \\1\n",
        " /   \\\n",
        "a  0/ \\1\n",
        "   b   c\n",
        "```\n",
        "y la cadena de bits\n",
        "```\n",
        "10101001\n",
        "```\n",
        "interpretaríamos\n",
        "```\n",
        "1 -> a\n",
        "01 -> b\n",
        "01 -> b\n",
        "00 -> c\n",
        "1 -> a\n",
        "```\n",
        "Está garantizado que, si la cadena de bits salió de ese árbol, entonces la interpretación siempre se puede realizar sin errores.\n",
        "\n",
        "El algoritmo para construir el árbol toma siempre los dos nodos con menor frecuencia y los une en un nodo interno, cuyo valor es la suma de las frecuencias, el menor de los dos hijos va a la rama del 0, y el mayor a la del 1, e itera este proceso Greedy hasta que nos quede un solo nodo, la raíz del árbol entero.\n",
        "\n",
        "Implementar el algoritmo que transforma un string en un Árbol de Huffman para crear el árbol. Como extra, además escribir el algoritmo de interpretación de secuencias de 1s y 0s. El algoritmo toma los 2 nodos con menor frecuencia y crea un nuevo nodo interno."
      ],
      "metadata": {
        "id": "OqF-LaU2eN0J"
      }
    }
  ]
}