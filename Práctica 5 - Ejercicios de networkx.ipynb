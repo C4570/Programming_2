{
  "cells": [
    {
      "attachments": {},
      "cell_type": "markdown",
      "metadata": {
        "id": "7u24cwGnQTGB"
      },
      "source": [
        "# Práctica 5: Grafos\n",
        "\n",
        "Para ayudarse a resolver, leer la documentación del paquete [networkx](https://networkx.org/documentation/stable/reference/index.html)\n",
        "\n",
        "Los ejercicios están inspirados de la sección de grafos de [CSES](https://cses.fi/problemset/list/)"
      ]
    },
    {
      "cell_type": "code",
      "execution_count": 2,
      "metadata": {
        "id": "U3JF-b9GQTGN"
      },
      "outputs": [
        {
          "name": "stdout",
          "output_type": "stream",
          "text": [
            "Requirement already satisfied: pytest in c:\\users\\sr c4\\appdata\\local\\programs\\python\\python311\\lib\\site-packages (7.3.1)\n",
            "Requirement already satisfied: iniconfig in c:\\users\\sr c4\\appdata\\local\\programs\\python\\python311\\lib\\site-packages (from pytest) (2.0.0)\n",
            "Requirement already satisfied: packaging in c:\\users\\sr c4\\appdata\\roaming\\python\\python311\\site-packages (from pytest) (23.1)\n",
            "Requirement already satisfied: pluggy<2.0,>=0.12 in c:\\users\\sr c4\\appdata\\local\\programs\\python\\python311\\lib\\site-packages (from pytest) (1.0.0)\n",
            "Requirement already satisfied: colorama in c:\\users\\sr c4\\appdata\\roaming\\python\\python311\\site-packages (from pytest) (0.4.6)\n",
            "Requirement already satisfied: networkx in c:\\users\\sr c4\\appdata\\local\\programs\\python\\python311\\lib\\site-packages (3.1)\n"
          ]
        }
      ],
      "source": [
        "!pip install pytest\n",
        "!pip install networkx"
      ]
    },
    {
      "attachments": {},
      "cell_type": "markdown",
      "metadata": {
        "id": "d3wX4oGm42Cc"
      },
      "source": [
        "**Ejercicio 1**: Construir los grafos $P_4, C_4, W_5, K_5, K_{2,3}$ programáticamente con el módulo `networkx`, y pedirle la construcción de sus matrices de adyacencia e incidencia donde:\n",
        "\n",
        "- $P_n$ es el grafo camino $n$ vértices\n",
        "- $C_n$ es el grafo ciclo de $n$ vértices\n",
        "- $W_n$ es el grafo rueda de $n$ vértices\n",
        "- $K_n$ es el grafo completo $n$ vértices\n",
        "- $K_{n,m}$ es el grafo bipartito completo $n$ y $m$ vértices"
      ]
    },
    {
      "cell_type": "code",
      "execution_count": 3,
      "metadata": {
        "id": "T_TrEyu-42Ce"
      },
      "outputs": [],
      "source": [
        "import networkx as nx\n",
        "from itertools import product\n",
        "\n",
        "# ..."
      ]
    },
    {
      "attachments": {},
      "cell_type": "markdown",
      "metadata": {
        "id": "qgab1aGmfAUp"
      },
      "source": [
        "Para los siguiente ejercicios, puede utilizar la siguiente clase si la necesita"
      ]
    },
    {
      "cell_type": "code",
      "execution_count": 4,
      "metadata": {
        "id": "WLeTk7pmk8IM"
      },
      "outputs": [],
      "source": [
        "from math import sqrt\n",
        "\n",
        "class Grid:\n",
        "  def __init__(self, string, ancho, alto):\n",
        "    raw_split = string.replace(\"\\n\", \" \").replace(\"\\t\", \" \").split(\" \")\n",
        "\n",
        "    self.cells = [symbol for symbol in raw_split if symbol != \"\"]\n",
        "    self.ancho = ancho\n",
        "    self.alto = alto\n",
        "    \n",
        "  def at(self, x, y):\n",
        "    assert 0 <= x < self.ancho\n",
        "    assert 0 <= y < self.alto\n",
        "    return self.cells[x + self.ancho * y]"
      ]
    },
    {
      "attachments": {},
      "cell_type": "markdown",
      "metadata": {
        "id": "DE49vwGLUvLr"
      },
      "source": [
        "**Ejercicio 2**: Se le da un mapa de un edificio y su tarea es contar el número de habitaciones. El tamaño del mapa es de $n \\times m$ cuadrados, y cada cuadrado es piso o pared. Puede caminar hacia la izquierda, derecha, arriba y abajo a través de los cuadrados del piso. Los pisos serán ' . ' y las paredes ' * '.\n",
        "\n",
        "En el siguiente ejemplo hay 3 habitaciones:\n",
        "```\n",
        "# # # # # # # #\n",
        "# . . # . . . #\n",
        "# # # # . # . #\n",
        "# . . # . . . #\n",
        "# # # # # # # #\n",
        "```\n",
        "\n",
        "_Inspirado en [Counting Rooms](https://cses.fi/problemset/task/1192)_\n"
      ]
    },
    {
      "cell_type": "code",
      "execution_count": null,
      "metadata": {
        "id": "M9BOxZKIbnQE"
      },
      "outputs": [],
      "source": [
        "import networkx as nx\n",
        "from itertools import product\n",
        "\n",
        "grid = Grid(\"\"\"\n",
        "    # # # # # # # #\n",
        "    # . . # . . . #\n",
        "    # # # # . # . #\n",
        "    # . . # . . . #\n",
        "    # # # # # # # #\n",
        "  \"\"\", ancho = 8, alto = 5)\n",
        "\n",
        "# ...\n"
      ]
    },
    {
      "attachments": {},
      "cell_type": "markdown",
      "metadata": {
        "id": "Axe39E88pah1"
      },
      "source": [
        "**Ejercicio 3**: Se nos da un mapa de un laberinto, donde hay que encontrar un camino de principio a fin. Se puede caminar hacia la izquierda, derecha, arriba y abajo. A es el inicio y B es el final.\n",
        "\n",
        "Imprima la ruta más corta. Puede imprimir cualquier solución válida.\n",
        "\n",
        "En el siguiente ejemplo el camino va izquierda, abajo, derecha al fondo y arriba:\n",
        "```\n",
        "# # # # # # # #\n",
        "# . A # . . . #\n",
        "# . # # . # B #\n",
        "# . . . . . . #\n",
        "# # # # # # # #\n",
        "```\n",
        "\n",
        "_Inspirado en [Labyrinth](https://cses.fi/problemset/task/1193)_\n"
      ]
    },
    {
      "cell_type": "code",
      "execution_count": null,
      "metadata": {
        "id": "fdY0BGk_pah2"
      },
      "outputs": [],
      "source": [
        "\n",
        "import networkx as nx\n",
        "from itertools import product\n",
        "\n",
        "grid = Grid(\"\"\"\n",
        "    # # # # # # # #\n",
        "    # . A # . . . #\n",
        "    # . # # . # B #\n",
        "    # . . . . . . #\n",
        "    # # # # # # # #\n",
        "  \"\"\", ancho = 8, alto = 5)\n",
        "\n",
        "# ..."
      ]
    },
    {
      "attachments": {},
      "cell_type": "markdown",
      "metadata": {
        "id": "TeRfw4NJf8Pl"
      },
      "source": [
        "**Definicion** Un multigrafo dirigido, también llamado a veces multidigrafo, es un grafo dirigido donde se consideran el sentido de las aristas (como en un grafo dirigido). Formalmente es un par ordenado G = (V, E) donde V es el conjunto de vertices y E es un multiconjunto de aristas donde cada arista es un par ordenado de vertices. Utilice este concepto para resolver el siguiente problema."
      ]
    },
    {
      "attachments": {},
      "cell_type": "markdown",
      "metadata": {
        "id": "rBa2fWTIu2DN"
      },
      "source": [
        "**Ejercicio 4**: Hay ciudades numeradas con conexiones de vuelos entre ellas. Determine la longitud de la ruta más corta desde la ciudad 1 a todas las ciudades.\n",
        "\n",
        "Cada conexión de vuelo cuenta con ciudad origen, ciudad destino y longitud de la ruta. Puede haber más de una conexión entre un par de ciudades, y las conexiones no son bidireccionales.\n",
        "\n",
        "Puede suponer que se puede llegar a todas las ciudades.\n",
        "\n",
        "En el siguiente ejemplo, los caminos más cortos son: 0 para la ciudad 1, 5 para la ciudad 2 y 2 para la ciudad 3:\n",
        "```\n",
        "1 2 6\n",
        "1 3 2\n",
        "3 2 3\n",
        "1 3 4\n",
        "```\n",
        "\n",
        "_Inspirado en [Shortest Routes I](https://cses.fi/problemset/task/1671)_\n"
      ]
    },
    {
      "cell_type": "code",
      "execution_count": null,
      "metadata": {
        "id": "fiSANuHIv03L"
      },
      "outputs": [],
      "source": [
        "import networkx as nx\n",
        "from itertools import product\n",
        "\n",
        "# ...\n"
      ]
    },
    {
      "attachments": {},
      "cell_type": "markdown",
      "metadata": {
        "id": "txrp21jd1eoK"
      },
      "source": [
        "**Ejercicio 5**: Hay ciudades conectadas por caminos. Desafortunadamente, el estado de las carreteras es tan malo que no se pueden utilizar. Tu tarea es reparar algunas de las carreteras para que haya una ruta decente entre dos ciudades.\n",
        "\n",
        "Para cada camino, se conoce su costo de reparación. Encuentre una solución donde el costo total sea lo más pequeño posible.\n",
        "\n",
        "Todos los caminos son de doble sentido. Todo camino esta entre dos ciudades diferentes, y como máximo hay un camino entre dos ciudades.\n",
        "\n",
        "En el siguiente ejemplo, la solución es 14:\n",
        "```\n",
        "1 2 3\n",
        "2 3 5\n",
        "2 4 2\n",
        "3 4 8\n",
        "5 1 7\n",
        "5 4 4\n",
        "```\n",
        "\n",
        "_Inspirado en [Road Reparation](https://cses.fi/problemset/task/1675)_"
      ]
    },
    {
      "cell_type": "code",
      "execution_count": null,
      "metadata": {
        "id": "e1ZGy0Re2HEu"
      },
      "outputs": [],
      "source": [
        "import networkx as nx\n",
        "from itertools import product\n",
        "\n",
        "# ..."
      ]
    },
    {
      "attachments": {},
      "cell_type": "markdown",
      "metadata": {
        "id": "Al_AUusSgplB"
      },
      "source": [
        "Ejercicio 6: Realice una función que dado un grafo, cuente el número de nodos y aristas que tiene el grafo. No utlice los metodos `number_of_nodes` ni `number_of_edges`. Al finalizar, utilice estos metodos para verificar que su implementación es correcta. "
      ]
    },
    {
      "cell_type": "code",
      "execution_count": null,
      "metadata": {
        "id": "E-2NLtOqhCb8"
      },
      "outputs": [],
      "source": [
        "import networkx as nx\n",
        "from itertools import product\n",
        "\n",
        "# ..."
      ]
    },
    {
      "attachments": {},
      "cell_type": "markdown",
      "metadata": {
        "id": "idkYgjrYhbL_"
      },
      "source": [
        "Ejercicio 7: Realice una función que dado un grafo, muestre su matriz de adyacencia como una lista de listas. No utlice el metodo `adjacency_matrix`. Al finalizar, utilice el metodo `adjacency_matrix` para comprobar que su implementacion es correcta."
      ]
    },
    {
      "cell_type": "code",
      "execution_count": null,
      "metadata": {
        "id": "nl3pPWUVhYDR"
      },
      "outputs": [],
      "source": [
        "import networkx as nx\n",
        "from itertools import product\n",
        "\n",
        "# ..."
      ]
    },
    {
      "attachments": {},
      "cell_type": "markdown",
      "metadata": {
        "id": "jjHbVzBEjLnt"
      },
      "source": [
        "**Definicion** El **diametro** de un grafo conexo con o sin pesos es la mayor longitud posible del camino mas corto entre dos nodos cualesquiera. Por ejemplo, el diametro de $K_n$, el grafo completo de n vertices, es siempre 1, pues entre cualesquiera par de nodos siempre hay una arista. "
      ]
    },
    {
      "attachments": {},
      "cell_type": "markdown",
      "metadata": {
        "id": "5CwCGUzbjHOx"
      },
      "source": [
        "Ejercicio 8: Realice una función que dado un grafo calcule su diametro."
      ]
    },
    {
      "cell_type": "code",
      "execution_count": null,
      "metadata": {
        "id": "Ei6u5a0WjG9d"
      },
      "outputs": [],
      "source": [
        "import networkx as nx\n",
        "from itertools import product\n",
        "\n",
        "# ..."
      ]
    },
    {
      "attachments": {},
      "cell_type": "markdown",
      "metadata": {
        "id": "xqcKKfGUlG3Y"
      },
      "source": [
        "Ejercicio 9: ¿Cual es el diametro del grafo $K_{n,m}$? Justifique su respuesta."
      ]
    }
  ],
  "metadata": {
    "colab": {
      "provenance": []
    },
    "kernelspec": {
      "display_name": "Python 3",
      "name": "python3"
    },
    "language_info": {
      "codemirror_mode": {
        "name": "ipython",
        "version": 3
      },
      "file_extension": ".py",
      "mimetype": "text/x-python",
      "name": "python",
      "nbconvert_exporter": "python",
      "pygments_lexer": "ipython3",
      "version": "3.11.2"
    }
  },
  "nbformat": 4,
  "nbformat_minor": 0
}
