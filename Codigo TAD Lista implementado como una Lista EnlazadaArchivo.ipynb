{
  "cells": [
    {
      "cell_type": "code",
      "execution_count": 2,
      "metadata": {
        "id": "fSRW6wzn1JBd"
      },
      "outputs": [],
      "source": [
        "class Nodo:\n",
        "  def __init__(self, cargo=None, next=None):\n",
        "    self.cargo = cargo\n",
        "    self.next = next\n",
        "    \n",
        "  def __str__(self):\n",
        "    return str(self.cargo)"
      ]
    },
    {
      "cell_type": "code",
      "execution_count": 3,
      "metadata": {
        "id": "AhiHYjeI1MQQ"
      },
      "outputs": [],
      "source": [
        "class ListaE:\n",
        "    def __init__(self):\n",
        "        self.head=None\n",
        "    \n",
        "    def insertPrincipio(self,valor):\n",
        "        if self.head == None:\n",
        "            self.head= Nodo(valor)\n",
        "        else:\n",
        "            nodo=Nodo(valor)\n",
        "            nodo.next=self.head\n",
        "            self.head=nodo\n",
        "\n",
        "    def insertarFinal(self,valor):\n",
        "        if (self.head == None):\n",
        "            self.insertPrincipio(valor)\n",
        "        else:\n",
        "            i = self.head\n",
        "            while (i.next != None):\n",
        "                i = i.next\n",
        "            i.next = Nodo(valor)\n",
        "\n",
        "    def insert(self,valor,pos):\n",
        "        if (self.head == None):\n",
        "            self.insertPrincipio(valor)\n",
        "        else:\n",
        "            i = self.head\n",
        "            c = 0\n",
        "            while c != pos-1:\n",
        "                i = i.next\n",
        "                c+=1\n",
        "            nuevo_nodo = Nodo(valor)\n",
        "            nuevo_nodo.next = i.next\n",
        "            i.next = nuevo_nodo\n",
        "\n",
        "    def index(self,valor):\n",
        "        if (self.head == None):\n",
        "            return -1\n",
        "        else:\n",
        "            i = self.head\n",
        "            c = 0\n",
        "            while (i != None):\n",
        "                if (valor == i.cargo):\n",
        "                    return c\n",
        "                else:\n",
        "                    c+=1\n",
        "                    i = i.next\n",
        "            return -1\n",
        "\n",
        "    def remove(self,valor):\n",
        "        if (self.head == None):\n",
        "            return -1\n",
        "        else:\n",
        "            i = self.head\n",
        "            i_ant = None\n",
        "            while i.next != None:\n",
        "                if (valor == i.cargo):\n",
        "                    i_ant.next = i.next\n",
        "                    return\n",
        "                else:\n",
        "                    i_ant = i\n",
        "                    i = i.next\n",
        "            return -1\n",
        "\n",
        "    def __getitem__(self, index):\n",
        "      if self.head == None:\n",
        "        return -1\n",
        "      else:\n",
        "        i = self.head\n",
        "        c = 0\n",
        "        while (i.next != None):\n",
        "          if (index == c):\n",
        "            return i.cargo\n",
        "          else:\n",
        "            i = i.next\n",
        "            c += 1\n",
        "        return -1\n",
        "    \n",
        "    def __str__(self):\n",
        "      representacion = \"[\"\n",
        "      if self.head:\n",
        "        i = self.head\n",
        "        while i != None:\n",
        "          representacion += str(i)\n",
        "          representacion +=\", \"\n",
        "          i = i.next\n",
        "\n",
        "      representacion += \"]\"\n",
        "      return representacion"
      ]
    },
    {
      "cell_type": "code",
      "execution_count": 23,
      "metadata": {
        "colab": {
          "base_uri": "https://localhost:8080/"
        },
        "id": "SGtd-8mq6tQe",
        "outputId": "7719c5af-3df3-45a4-971c-792ae56b7597"
      },
      "outputs": [
        {
          "name": "stdout",
          "output_type": "stream",
          "text": [
            "[2, 5, ]\n"
          ]
        }
      ],
      "source": [
        "le = ListaE()\n",
        "le.insert(2, 0)\n",
        "le.insert(3, 1)\n",
        "le.insert(4, 2)\n",
        "le.insert(5, 3)\n",
        "le.index(3)\n",
        "le[1]\n",
        "le.remove(3)\n",
        "le.remove(4)\n",
        "print(le)"
      ]
    },
    {
      "cell_type": "code",
      "execution_count": 7,
      "metadata": {
        "colab": {
          "base_uri": "https://localhost:8080/"
        },
        "id": "3HZHPWDW43zq",
        "outputId": "12dfc4a9-15df-4fef-9c89-a876caa43ab7"
      },
      "outputs": [
        {
          "data": {
            "text/plain": [
              "3"
            ]
          },
          "execution_count": 7,
          "metadata": {},
          "output_type": "execute_result"
        }
      ],
      "source": [
        "l = [ 1,2,3,4]\n",
        "l[2]"
      ]
    },
    {
      "cell_type": "code",
      "execution_count": 9,
      "metadata": {
        "colab": {
          "base_uri": "https://localhost:8080/",
          "height": 184
        },
        "id": "hXmo4XQ54_ta",
        "outputId": "d8f3866c-6500-498f-dd57-a41817182b11"
      },
      "outputs": [
        {
          "data": {
            "text/plain": [
              "3"
            ]
          },
          "execution_count": 9,
          "metadata": {},
          "output_type": "execute_result"
        }
      ],
      "source": [
        "l.index(1)\n",
        "l.index(4)"
      ]
    }
  ],
  "metadata": {
    "colab": {
      "provenance": []
    },
    "kernelspec": {
      "display_name": "Python 3",
      "name": "python3"
    },
    "language_info": {
      "codemirror_mode": {
        "name": "ipython",
        "version": 3
      },
      "file_extension": ".py",
      "mimetype": "text/x-python",
      "name": "python",
      "nbconvert_exporter": "python",
      "pygments_lexer": "ipython3",
      "version": "3.10.9"
    }
  },
  "nbformat": 4,
  "nbformat_minor": 0
}
