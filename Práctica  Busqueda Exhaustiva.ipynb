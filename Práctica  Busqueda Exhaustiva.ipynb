{
  "nbformat": 4,
  "nbformat_minor": 0,
  "metadata": {
    "colab": {
      "provenance": []
    },
    "kernelspec": {
      "name": "python3",
      "display_name": "Python 3"
    },
    "language_info": {
      "name": "python"
    }
  },
  "cells": [
    {
      "cell_type": "markdown",
      "source": [
        "# Práctica 6: Algoritmos de busqueda exhaustiva"
      ],
      "metadata": {
        "id": "7u24cwGnQTGB"
      }
    },
    {
      "cell_type": "markdown",
      "source": [
        "**Ejercicio 1**: Dado un número entero compuesto, aplicar un algoritmo de busqueda exhaustiva para dar con uno de sus divisores no triviales."
      ],
      "metadata": {
        "id": "DE49vwGLUvLr"
      }
    },
    {
      "cell_type": "markdown",
      "source": [
        "**Ejercicio 2**: Encuentre todas las soluciones naturales de la ecuación $a² + b² = c²$, donde $1\\leq a, b, c \\leq n$. \n",
        "\n",
        "_Ayuda: utilice itertools.product_"
      ],
      "metadata": {
        "id": "OiqDgyg39tbZ"
      }
    },
    {
      "cell_type": "markdown",
      "source": [
        "**Ejercicio 3**: Dada una lista de $n$ números y un número mágico $m$, determinar si existen en la lista 3 números cuya suma sea el número mágico $m$. Se pueden repetir números.\n",
        "\n",
        "_Ayuda_: utilice `itertools.product`"
      ],
      "metadata": {
        "id": "G5u4FQJVTFdz"
      }
    },
    {
      "cell_type": "markdown",
      "source": [
        "**Ejercicio 4**: Dada una lista de $n$ números y un número mágico $m$, determinar si existen en la lista $k$ números cuya suma sea el número mágico $m$. Se pueden repetir números.\n",
        "\n",
        "_Ayuda_: utilice `itertools.product`"
      ],
      "metadata": {
        "id": "YPW238Hs7o6B"
      }
    },
    {
      "cell_type": "markdown",
      "source": [
        "**Ejercicio 5**: El problema del agente viajero\n",
        "\n",
        "Dada una lista de $n$ ciudades y las distancias entre cada par de ellas,\n",
        "encontrar el recorrido más corto posible que visita cada ciudad\n",
        "exactamente una vez y regresa a la ciudad origen.\n",
        "\n",
        "Por ejemplo, dadas las ciudad a, b, c y d con distancias:\n",
        "\n",
        "a - b: 2\n",
        "\n",
        "a - c: 5\n",
        "\n",
        "a - d: 7\n",
        "\n",
        "b - c: 8\n",
        "\n",
        "b - d: 3\n",
        "\n",
        "c - d: 1\n",
        "\n",
        "El camino optimo es a -> b -> d -> c -> a\n",
        "\n",
        "_Ayuda_: Utilice `networkx` y la función `simple_cycles`. "
      ],
      "metadata": {
        "id": "2njPPbBw8Zx-"
      }
    },
    {
      "cell_type": "code",
      "source": [
        "!pip install networkx"
      ],
      "metadata": {
        "id": "wvw_Qru-943Y"
      },
      "execution_count": null,
      "outputs": []
    },
    {
      "cell_type": "code",
      "source": [
        "import networkx as nx\n",
        "\n",
        "\n",
        "def TSP(G):\n",
        "  # Completar!!!\n",
        "  pass\n",
        "\n",
        "G = nx.Graph()\n",
        "G.add_nodes_from(\"abcd\")\n",
        "G.add_edge(\"a\", \"b\", weight=2)\n",
        "G.add_edge(\"a\", \"c\", weight=5)\n",
        "G.add_edge(\"a\", \"d\", weight=7)\n",
        "G.add_edge(\"b\", \"c\", weight=8)\n",
        "G.add_edge(\"b\", \"d\", weight=3)\n",
        "G.add_edge(\"c\", \"d\", weight=1)\n",
        "\n",
        "print(TSP(G))"
      ],
      "metadata": {
        "id": "50GxpsGw8ZGH"
      },
      "execution_count": null,
      "outputs": []
    },
    {
      "cell_type": "markdown",
      "source": [
        "**Ejercicio 6: El problema de la mochila**\n",
        "\n",
        "Sean $n$ distintos tipos de objetos, de los cuales se tienen $q_i$ unidades disponibles para cada tipo ($1 ≤ q_i ≤ ∞$). Cada tipo de objeto $i$ tiene un\n",
        "beneficio asociado $v_i$ y un peso (o volumen) $w_i$ ($vi\n",
        ", wi > 0$).\n",
        "\n",
        "Por otro lado se tiene una mochila, donde se pueden introducir los\n",
        "objetos, que soporta un peso máximo (o volumen máximo) $W$.\n",
        "El problema consiste en meter en la mochila objetos de tal forma que\n",
        "se maximice el valor de los objetos que contiene y siempre que no se\n",
        "supere el peso máximo que puede soportar la misma. \n",
        "\n",
        "Por ejemplo, si la capacidad de la mochila es $W=5 kg$ y los candidatoss objetos:\n",
        "\n",
        "| Objeto ($i$) | Cantidad ($q_i$)| Valor ($v_i)$ | Peso ($w_i$) | \n",
        "|--------------|-----------------|---------------|--------------|\n",
        "| objeto 1     |   1             | 10usd         | 1 kg         |\n",
        "| objeto 2     |   2             | 20usd         | 3 kg         |\n",
        "| objeto 3     |   1             | 15usd         | 2 kg         |\n",
        "| objeto 4     |   3             | 20usd         | 4 kg         |\n",
        "\n",
        "Conviene llevar una unidad del objeto 2 y una unidad del objeto 3.\n"
      ],
      "metadata": {
        "id": "yoPdPd-KBdYI"
      }
    },
    {
      "cell_type": "code",
      "source": [
        "import itertools\n",
        "\n",
        "W = 5\n",
        "\n",
        "class Objeto:\n",
        "  def __init__(self, i, v, w):\n",
        "    self.i = i # Solo para identificar el objeto\n",
        "    self.v = v # Valor que nos aporta\n",
        "    self.w = w # Peso del objeto\n",
        "\n",
        "  def __str__(self):\n",
        "    return f\"Objeto({self.i}, peso={self.w}, beneficio={self.v})\"\n",
        "\n",
        "  __repr__ = __str__\n",
        "\n",
        "class Mochila(list):\n",
        "  def __init__(self, *args, ):\n",
        "    super().__init__(*args)\n",
        "    self.W = W # Capacidad maxima de la mochila\n",
        "\n",
        "  def peso_total(self):\n",
        "    peso = 0 \n",
        "    for i in self:\n",
        "      peso += i.w\n",
        "    return peso\n",
        "\n",
        "  def valor_total(self):\n",
        "    valor = 0\n",
        "    for i in self:\n",
        "      valor += i.v\n",
        "    return valor\n",
        "\n",
        "def knapsack(objs):\n",
        "  # COMPLETAR!! \n",
        "  pass\n",
        "\n",
        "knapsack(objetos)"
      ],
      "metadata": {
        "id": "4Mm5rg0vBZf3",
        "collapsed": true
      },
      "execution_count": null,
      "outputs": []
    }
  ]
}